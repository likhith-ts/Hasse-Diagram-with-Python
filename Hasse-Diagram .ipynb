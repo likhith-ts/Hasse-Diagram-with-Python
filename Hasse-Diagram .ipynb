{
 "cells": [
  {
   "cell_type": "code",
   "execution_count": 24,
   "id": "e07837e4",
   "metadata": {},
   "outputs": [],
   "source": [
    "import networkx as nx\n",
    "import matplotlib.pyplot as plt\n",
    "import random\n",
    "import ast\n",
    "\n",
    "class MyClass():\n",
    "    def __init__(self):\n",
    "        self.list2 = ast.literal_eval(input('Enter the values: '))\n",
    "        self.list1 = []\n",
    "        for a, b in self.list2:\n",
    "            self.list1.append(a and b)\n",
    "        for i in list(range(1,10)):\n",
    "            for a in self.list1:\n",
    "                while self.list1.count(a) > 1:\n",
    "                    self.list1.remove(a)\n",
    "        self.list1.sort()\n",
    "        self.result = {}\n",
    "        for first, second in self.list2:\n",
    "            self.result.setdefault(first, []).append(second)\n",
    "        self.reflexive_list = []\n",
    "        for a, b in list(self.list2):\n",
    "            if a == b:\n",
    "                self.reflexive_list.append((a,b))\n",
    "        self.primes = []\n",
    "        for num in self.list1:\n",
    "            prime = True\n",
    "            for i in range(2,num):\n",
    "                if (num%i==0):\n",
    "                    prime = False\n",
    "            if prime:\n",
    "               self.primes.append(num)\n",
    "            \n",
    "    def check_reflexive(self):\n",
    "        if len(self.reflexive_list) == len(self.list1):\n",
    "            print(self.reflexive_list)\n",
    "            print(\"Reflexive check ✅\")\n",
    "            return True\n",
    "        else:\n",
    "            print(\"Reflexive check ❌\")\n",
    "            return False\n",
    "        \n",
    "    def check_antisymmetric(self):\n",
    "        antisymettric_list = []\n",
    "        for b in self.list2:\n",
    "            swap1 = b[0]\n",
    "            swap2 = b[1]\n",
    "            newtuple = (swap2, swap1)\n",
    "            antisymettric_list.append(newtuple)\n",
    "        for ü in self.reflexive_list:\n",
    "            if ü in antisymettric_list:\n",
    "                antisymettric_list.remove(ü)\n",
    "            else:\n",
    "                None\n",
    "        print(antisymettric_list)\n",
    "        for q in antisymettric_list:\n",
    "            if q in self.list2:\n",
    "                print(\"Anti-Symmetric check ❌\")\n",
    "                return False\n",
    "        print(\"Anti-Symmetric check ✅\")\n",
    "        return True\n",
    "    \n",
    "    def check_transitive(self):      \n",
    "        for a, b in self.list2:\n",
    "            for x in self.result[b]:\n",
    "                if (   x in self.result[a]  ):\n",
    "                    None\n",
    "                else:\n",
    "                    print(\"Transitive check ❌\")\n",
    "                    print(\"There is no ({},{}) in the {}\".format(a, x, self.result[a]))\n",
    "                    return False\n",
    "        print(\"Transitive check ✅\")\n",
    "        return True\n",
    "    \n",
    "    def draw_diagram(self):\n",
    "        pos = {}\n",
    "        #origin = -len(list(self.result.keys()))-5\n",
    "        randlist = list(range(1,len(list(self.result.keys()))+1))\n",
    "        for a in (list(self.result.keys())):\n",
    "            if a == 1:\n",
    "                pos.setdefault(a, ((len(list(self.result.keys()))/2), -len(list(self.result.keys()))*2-4))\n",
    "            elif a in self.primes:\n",
    "                pos.setdefault(a, (a, -len(list(self.result.keys()))*2))\n",
    "            elif len(list(self.result[a])) == 1:\n",
    "                exitr = random.choice(randlist)\n",
    "                pos.setdefault(a,(exitr, 0))\n",
    "                randlist.remove(exitr)\n",
    "            else:\n",
    "                exitr = random.choice(randlist)\n",
    "                pos.setdefault(a, (exitr, (-len(list(self.result[a])))*2))\n",
    "                randlist.remove(exitr)\n",
    "        ###\n",
    "        edges = {}\n",
    "        list1_reverse = list(self.list1)\n",
    "        for a in list1_reverse:\n",
    "            for b in list1_reverse:\n",
    "                if (a%b==0) and (a != b):\n",
    "                    edges.setdefault(a, []).append(b)\n",
    "        ###\n",
    "        edge_list = [(x,y) for x,y in self.list2 if x!=y]\n",
    "        for i in list(range(1,10)):\n",
    "            for a, b in edge_list:\n",
    "                if b in list(edges.keys()):\n",
    "                    for z in edges[b]:\n",
    "                        if (z!=a) and (z%a==0):\n",
    "                            while (a,b) in edge_list:\n",
    "                                edge_list.remove((a,b))\n",
    "        ###\n",
    "        T = nx.DiGraph()\n",
    "        T.add_nodes_from(list(pos.keys()))\n",
    "        T.add_edges_from(edge_list)\n",
    "        plt.figure()\n",
    "        if ( (self.check_reflexive() == True) and (self.check_antisymmetric() == True) and (self.check_transitive()== True) ):\n",
    "            nx.draw(T, pos, node_color='black', node_size=600, font_size= 15, font_color='yellow', with_labels=True, arrowsize=18, edge_color='green')\n",
    "        else:\n",
    "            return \"There are conditions that are not provided.\""
   ]
  },
  {
   "cell_type": "markdown",
   "id": "9d9c2fed",
   "metadata": {},
   "source": [
    "# <font color='green'>Example 1</font> \n",
    "(1, 1), (1, 2), (1, 3), (1, 4), (1, 5), (1, 6), (1, 7), (1, 8), (1, 9), (2, 2), (2, 4), (2, 6),(2, 8), (3, 3), (3, 6), (3, 9),(4, 4), (4, 8), (5, 5), (6, 6), (7, 7), (8, 8), (9, 9)"
   ]
  },
  {
   "cell_type": "code",
   "execution_count": 38,
   "id": "143cc12c",
   "metadata": {},
   "outputs": [
    {
     "name": "stdout",
     "output_type": "stream",
     "text": [
      "Enter the values: (1, 1), (1, 2), (1, 3), (1, 4), (1, 5), (1, 6), (1, 7), (1, 8), (1, 9), (2, 2), (2, 4), (2, 6),(2, 8), (3, 3), (3, 6), (3, 9),(4, 4), (4, 8), (5, 5), (6, 6), (7, 7), (8, 8), (9, 9)\n",
      "[(1, 1), (2, 2), (3, 3), (4, 4), (5, 5), (6, 6), (7, 7), (8, 8), (9, 9)]\n",
      "Reflexive check ✅\n",
      "[(2, 1), (3, 1), (4, 1), (5, 1), (6, 1), (7, 1), (8, 1), (9, 1), (4, 2), (6, 2), (8, 2), (6, 3), (9, 3), (8, 4)]\n",
      "Anti-Symmetric check ✅\n",
      "Transitive check ✅\n"
     ]
    },
    {
     "data": {
      "image/png": "[encoded data removed]",
      "text/plain": [
       "<Figure size 432x288 with 1 Axes>"
      ]
     },
     "metadata": {},
     "output_type": "display_data"
    }
   ],
   "source": [
    "MyClass().draw_diagram()"
   ]
  },
  {
   "cell_type": "markdown",
   "id": "4dea7d59",
   "metadata": {},
   "source": [
    "# <font color='green'>Example 2 </font> \n",
    "##### non-transitive\n",
    "(1, 1), (1, 2), (1, 3), (1, 4), (1, 5),  (1, 7), (1, 8), (1, 9), (2, 2), (2, 4), (2, 6),(2, 8), (3, 3), (3, 6), (3, 9),(4, 4), (4, 8), (5, 5), (6, 6), (7, 7), (8, 8), (9, 9)"
   ]
  },
  {
   "cell_type": "code",
   "execution_count": 39,
   "id": "04252884",
   "metadata": {},
   "outputs": [
    {
     "name": "stdout",
     "output_type": "stream",
     "text": [
      "Enter the values: (1, 1), (1, 2), (1, 3), (1, 4), (1, 5), (1, 7), (1, 8), (1, 9), (2, 2), (2, 4), (2, 6),(2, 8), (3, 3), (3, 6), (3, 9),(4, 4), (4, 8), (5, 5), (6, 6), (7, 7), (8, 8), (9, 9)\n",
      "[(1, 1), (2, 2), (3, 3), (4, 4), (5, 5), (6, 6), (7, 7), (8, 8), (9, 9)]\n",
      "Reflexive check ✅\n",
      "[(2, 1), (3, 1), (4, 1), (5, 1), (7, 1), (8, 1), (9, 1), (4, 2), (6, 2), (8, 2), (6, 3), (9, 3), (8, 4)]\n",
      "Anti-Symmetric check ✅\n",
      "Transitive check ❌\n",
      "There is no (1,6) in the [1, 2, 3, 4, 5, 7, 8, 9]\n"
     ]
    },
    {
     "data": {
      "text/plain": [
       "'There are conditions that are not provided.'"
      ]
     },
     "execution_count": 39,
     "metadata": {},
     "output_type": "execute_result"
    },
    {
     "data": {
      "text/plain": [
       "<Figure size 432x288 with 0 Axes>"
      ]
     },
     "metadata": {},
     "output_type": "display_data"
    }
   ],
   "source": [
    "MyClass().draw_diagram()"
   ]
  }
 ],
 "metadata": {
  "kernelspec": {
   "display_name": "Python 3 (ipykernel)",
   "language": "python",
   "name": "python3"
  },
  "language_info": {
   "codemirror_mode": {
    "name": "ipython",
    "version": 3
   },
   "file_extension": ".py",
   "mimetype": "text/x-python",
   "name": "python",
   "nbconvert_exporter": "python",
   "pygments_lexer": "ipython3",
   "version": "3.8.8"
  }
 },
 "nbformat": 4,
 "nbformat_minor": 5
}
