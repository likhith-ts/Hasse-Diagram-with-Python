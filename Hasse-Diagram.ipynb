{
 "cells": [
  {
   "cell_type": "code",
   "execution_count": 2,
   "id": "d3814186",
   "metadata": {},
   "outputs": [],
   "source": []
  },
  {
   "cell_type": "code",
   "execution_count": 74,
   "id": "7cff5a0d",
   "metadata": {},
   "outputs": [],
   "source": [
    "class MyClass():\n",
    "    def __init__(self, k):\n",
    "        self.list1 = k\n",
    "        self.list2 = []\n",
    "        \n",
    "        j = 0\n",
    "        while j < len(self.list1):\n",
    "            i = 0\n",
    "            while i < len(self.list1):\n",
    "                if self.list1[i]%self.list1[j] == 0:\n",
    "                    tup = self.list1[j],self.list1[i]\n",
    "                    self.list2.append(tup)\n",
    "                i += 1\n",
    "            else:\n",
    "                None\n",
    "            j = j + 1\n",
    "        else:\n",
    "            None\n",
    "        \n",
    "        self.reflexive_list = []\n",
    "        j = 0\n",
    "        z = 0\n",
    "        while j < len(self.list1):\n",
    "            i = 0\n",
    "            while i < len(self.list1):\n",
    "                if self.list1[i] == self.list1[j]:\n",
    "                    tup = self.list1[j],self.list1[i]\n",
    "                    self.reflexive_list.append(tup)\n",
    "                i += 1\n",
    "            else:\n",
    "                None\n",
    "            j = j + 1\n",
    "        else:\n",
    "            None\n",
    "            \n",
    "        self.result = {}\n",
    "        for first, second in self.list2:\n",
    "            self.result.setdefault(first, []).append(second)\n",
    "        \n",
    "        self.primes = []\n",
    "        for num in self.list1:\n",
    "            prime = True\n",
    "            for i in range(2,num):\n",
    "                if (num%i==0):\n",
    "                    prime = False\n",
    "            if prime:\n",
    "               self.primes.append(num)\n",
    "            \n",
    "    \n",
    "    def checkif_even(self):\n",
    "        for a in self.list1:\n",
    "            if a%2 == 0:\n",
    "                None\n",
    "            else:\n",
    "                print(\"There is odd number in the list.\")\n",
    "                return False\n",
    "        print(\"All numbers are even.\")\n",
    "        return True\n",
    "    \n",
    "    def check_reflexive(self):\n",
    "\n",
    "        if len(self.reflexive_list) == len(self.list1):\n",
    "            print(self.reflexive_list)\n",
    "            print(\"It provides the reflexive condition.\")\n",
    "            return True\n",
    "        else:\n",
    "            print(\"It doesn't provides the reflexive condition.\")\n",
    "            return False\n",
    "    \n",
    "    def antisymmetric(self):\n",
    "        antisymettric_list = []\n",
    "        for b in self.list2:\n",
    "            swap1 = b[0]\n",
    "            swap2 = b[1]\n",
    "            newtuple = (swap2, swap1)\n",
    "            antisymettric_list.append(newtuple)\n",
    "    \n",
    "        for ü in self.reflexive_list:\n",
    "            if ü in antisymettric_list:\n",
    "                antisymettric_list.remove(ü)\n",
    "            else:\n",
    "                None\n",
    "    \n",
    "        print(antisymettric_list)\n",
    "    \n",
    "        for q in antisymettric_list:\n",
    "            if q in self.list2:\n",
    "                print(\"It doesn't provides the Anti-Symmetric condition.\")\n",
    "                return False\n",
    "        print(\"It provides the Anti-Symmetric condition.\")\n",
    "        return True\n",
    "        \n",
    "    def transitive(self):      \n",
    "        for a, b in self.list2:\n",
    "            for x in self.result[b]:\n",
    "                if x in self.result[a]:\n",
    "                    None\n",
    "                else:\n",
    "                    print(\"There is no ({},{}) in the {}\".format(a, x, self.result[a]))\n",
    "                    return False\n",
    "        print(\"It provides the Transitive condition.\")\n",
    "        return True\n",
    "\n",
    "    def draw_diagram(self):\n",
    "        pos = {}\n",
    "        origin = -len(list(self.result.keys()))-5\n",
    "        randlist = list(range(1,len(list(self.result.keys()))+1))\n",
    "        for a in (list(self.result.keys())):\n",
    "            if a == 1:\n",
    "                pos.setdefault(a, ((len(list(self.result.keys()))/2), -len(list(self.result.keys()))-4))\n",
    "            elif a in self.primes:\n",
    "                    pos.setdefault(a, (a, -len(list(self.result.keys()))))\n",
    "            elif len(list(self.result[a])) == 1:\n",
    "                exitr = random.choice(randlist)\n",
    "                pos.setdefault(a,(exitr, 0))\n",
    "                randlist.remove(exitr)\n",
    "            else:\n",
    "                exitr = random.choice(randlist)\n",
    "                pos.setdefault(a, (exitr, (-len(list(self.result[a])))*2))\n",
    "                randlist.remove(exitr)\n",
    "        \n",
    "        ###\n",
    "        edges = {}\n",
    "        list1_reverse = list(self.list1)\n",
    "        for a in list1_reverse:\n",
    "            for b in list1_reverse:\n",
    "                if (a%b==0) and (a != b):\n",
    "                    edges.setdefault(a, []).append(b)\n",
    "        \n",
    "        ###\n",
    "        edge_list = [(x,y) for x,y in self.list2 if x!=y]\n",
    "        for i in list(range(1,10)):\n",
    "            for a, b in edge_list:\n",
    "                if b in list(edges.keys()):\n",
    "                    for z in edges[b]:\n",
    "                        if (z!=a) and (z%a==0):\n",
    "                            while (a,b) in edge_list:\n",
    "                                edge_list.remove((a,b))\n",
    "        ###\n",
    "        T = nx.DiGraph()\n",
    "        T.add_nodes_from(list(pos.keys()))\n",
    "        T.add_edges_from(edge_list)\n",
    "        plt.figure()\n",
    "        \n",
    "        if ( (self.checkif_even() == True) and (self.check_reflexive() == True) and (self.antisymmetric() == True) and (self.transitive()== True) ):\n",
    "            nx.draw(T, pos, node_color='black', node_size=600, font_size= 15, font_color='yellow', with_labels=True, arrowsize=18)\n",
    "        else:\n",
    "            return \"There are conditions that are not provided.\""
   ]
  },
  {
   "cell_type": "code",
   "execution_count": 47,
   "id": "caf82a9d",
   "metadata": {},
   "outputs": [
    {
     "name": "stdout",
     "output_type": "stream",
     "text": [
      "example_list1: 1 2 3 4 5 6 7 8 9\n"
     ]
    }
   ],
   "source": [
    "example_list1 = list(map(int, input(\"example_list1: \").split()))"
   ]
  },
  {
   "cell_type": "code",
   "execution_count": 5,
   "id": "03d51a3e",
   "metadata": {
    "scrolled": true
   },
   "outputs": [
    {
     "name": "stdout",
     "output_type": "stream",
     "text": [
      "example_list1: 2 3 5 6 8 16 18\n"
     ]
    }
   ],
   "source": [
    "example_list2 = list(map(int, input(\"example_list1: \").split()))"
   ]
  },
  {
   "cell_type": "code",
   "execution_count": 6,
   "id": "a80ab4ce",
   "metadata": {},
   "outputs": [
    {
     "name": "stdout",
     "output_type": "stream",
     "text": [
      "example_list1: 4 6 8 12 16 18 20 26 28 36\n"
     ]
    }
   ],
   "source": [
    "example_list3 = list(map(int, input(\"example_list1: \").split()))"
   ]
  },
  {
   "cell_type": "code",
   "execution_count": 75,
   "id": "4a9fa2e1",
   "metadata": {},
   "outputs": [
    {
     "name": "stdout",
     "output_type": "stream",
     "text": [
      "All numbers are even.\n"
     ]
    },
    {
     "data": {
      "text/plain": [
       "True"
      ]
     },
     "execution_count": 75,
     "metadata": {},
     "output_type": "execute_result"
    }
   ],
   "source": [
    "MyClass(example_list3).checkif_even()"
   ]
  },
  {
   "cell_type": "code",
   "execution_count": 76,
   "id": "dbeed2b3",
   "metadata": {},
   "outputs": [
    {
     "name": "stdout",
     "output_type": "stream",
     "text": [
      "[(4, 4), (6, 6), (8, 8), (12, 12), (16, 16), (18, 18), (20, 20), (26, 26), (28, 28), (36, 36)]\n",
      "It provides the reflexive condition.\n"
     ]
    },
    {
     "data": {
      "text/plain": [
       "True"
      ]
     },
     "execution_count": 76,
     "metadata": {},
     "output_type": "execute_result"
    }
   ],
   "source": [
    "MyClass(example_list3).check_reflexive()"
   ]
  },
  {
   "cell_type": "code",
   "execution_count": 77,
   "id": "6c6327dd",
   "metadata": {},
   "outputs": [
    {
     "name": "stdout",
     "output_type": "stream",
     "text": [
      "[(8, 4), (12, 4), (16, 4), (20, 4), (28, 4), (36, 4), (12, 6), (18, 6), (36, 6), (16, 8), (36, 12), (36, 18)]\n",
      "It provides the Anti-Symmetric condition.\n"
     ]
    },
    {
     "data": {
      "text/plain": [
       "True"
      ]
     },
     "execution_count": 77,
     "metadata": {},
     "output_type": "execute_result"
    }
   ],
   "source": [
    "MyClass(example_list3).antisymmetric()"
   ]
  },
  {
   "cell_type": "code",
   "execution_count": 78,
   "id": "10fac020",
   "metadata": {},
   "outputs": [
    {
     "name": "stdout",
     "output_type": "stream",
     "text": [
      "It provides the Transitive condition.\n"
     ]
    },
    {
     "data": {
      "text/plain": [
       "True"
      ]
     },
     "execution_count": 78,
     "metadata": {},
     "output_type": "execute_result"
    }
   ],
   "source": [
    "MyClass(example_list3).transitive()"
   ]
  },
  {
   "cell_type": "code",
   "execution_count": 79,
   "id": "b69127fb",
   "metadata": {},
   "outputs": [
    {
     "name": "stdout",
     "output_type": "stream",
     "text": [
      "All numbers are even.\n",
      "[(4, 4), (6, 6), (8, 8), (12, 12), (16, 16), (18, 18), (20, 20), (26, 26), (28, 28), (36, 36)]\n",
      "It provides the reflexive condition.\n",
      "[(8, 4), (12, 4), (16, 4), (20, 4), (28, 4), (36, 4), (12, 6), (18, 6), (36, 6), (16, 8), (36, 12), (36, 18)]\n",
      "It provides the Anti-Symmetric condition.\n",
      "It provides the Transitive condition.\n"
     ]
    },
    {
     "data": {
      "image/png": "[encoded data removed]",
      "text/plain": [
       "<Figure size 432x288 with 1 Axes>"
      ]
     },
     "metadata": {},
     "output_type": "display_data"
    }
   ],
   "source": [
    "MyClass(example_list3).draw_diagram()"
   ]
  }
 ],
 "metadata": {
  "kernelspec": {
   "display_name": "Python 3 (ipykernel)",
   "language": "python",
   "name": "python3"
  },
  "language_info": {
   "codemirror_mode": {
    "name": "ipython",
    "version": 3
   },
   "file_extension": ".py",
   "mimetype": "text/x-python",
   "name": "python",
   "nbconvert_exporter": "python",
   "pygments_lexer": "ipython3",
   "version": "3.8.8"
  }
 },
 "nbformat": 4,
 "nbformat_minor": 5
}
